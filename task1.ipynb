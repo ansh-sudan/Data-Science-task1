{
 "cells": [
  {
   "cell_type": "markdown",
   "id": "9c114d1d",
   "metadata": {},
   "source": [
    "# The Sparks Foundation -Data Science and Business Analytics Internship"
   ]
  },
  {
   "cell_type": "markdown",
   "id": "023b78e1",
   "metadata": {},
   "source": [
    "# Author-Ansh Sudan"
   ]
  },
  {
   "cell_type": "markdown",
   "id": "193db148",
   "metadata": {},
   "source": [
    "# Task 1:Prediction using Supervised Machine Learning"
   ]
  },
  {
   "cell_type": "markdown",
   "id": "8d1b08b1",
   "metadata": {},
   "source": [
    "# Problem Statements: "
   ]
  },
  {
   "cell_type": "markdown",
   "id": "489ac5e5",
   "metadata": {},
   "source": [
    "1.Predict the percentage of a student based on the no. of study hours.\n",
    "\n",
    "2.What will be predicted scores if a student studies for 9.25 hrs/day?"
   ]
  },
  {
   "cell_type": "code",
   "execution_count": 3,
   "id": "595c0bd9",
   "metadata": {},
   "outputs": [],
   "source": [
    "#importing required libraries\n",
    "import pandas as pd\n",
    "import numpy as np  \n",
    "import matplotlib.pyplot as plt  \n",
    "%matplotlib inline\n",
    "from matplotlib import pyplot as plt\n",
    "from matplotlib import style\n",
    "import seaborn as sns"
   ]
  },
  {
   "cell_type": "code",
   "execution_count": 4,
   "id": "2a21da00",
   "metadata": {},
   "outputs": [
    {
     "name": "stdout",
     "output_type": "stream",
     "text": [
      "data imported successfully\n"
     ]
    },
    {
     "data": {
      "text/html": [
       "<div>\n",
       "<style scoped>\n",
       "    .dataframe tbody tr th:only-of-type {\n",
       "        vertical-align: middle;\n",
       "    }\n",
       "\n",
       "    .dataframe tbody tr th {\n",
       "        vertical-align: top;\n",
       "    }\n",
       "\n",
       "    .dataframe thead th {\n",
       "        text-align: right;\n",
       "    }\n",
       "</style>\n",
       "<table border=\"1\" class=\"dataframe\">\n",
       "  <thead>\n",
       "    <tr style=\"text-align: right;\">\n",
       "      <th></th>\n",
       "      <th>Hours</th>\n",
       "      <th>Scores</th>\n",
       "    </tr>\n",
       "  </thead>\n",
       "  <tbody>\n",
       "    <tr>\n",
       "      <th>0</th>\n",
       "      <td>2.5</td>\n",
       "      <td>21</td>\n",
       "    </tr>\n",
       "    <tr>\n",
       "      <th>1</th>\n",
       "      <td>5.1</td>\n",
       "      <td>47</td>\n",
       "    </tr>\n",
       "    <tr>\n",
       "      <th>2</th>\n",
       "      <td>3.2</td>\n",
       "      <td>27</td>\n",
       "    </tr>\n",
       "    <tr>\n",
       "      <th>3</th>\n",
       "      <td>8.5</td>\n",
       "      <td>75</td>\n",
       "    </tr>\n",
       "    <tr>\n",
       "      <th>4</th>\n",
       "      <td>3.5</td>\n",
       "      <td>30</td>\n",
       "    </tr>\n",
       "    <tr>\n",
       "      <th>5</th>\n",
       "      <td>1.5</td>\n",
       "      <td>20</td>\n",
       "    </tr>\n",
       "    <tr>\n",
       "      <th>6</th>\n",
       "      <td>9.2</td>\n",
       "      <td>88</td>\n",
       "    </tr>\n",
       "    <tr>\n",
       "      <th>7</th>\n",
       "      <td>5.5</td>\n",
       "      <td>60</td>\n",
       "    </tr>\n",
       "    <tr>\n",
       "      <th>8</th>\n",
       "      <td>8.3</td>\n",
       "      <td>81</td>\n",
       "    </tr>\n",
       "    <tr>\n",
       "      <th>9</th>\n",
       "      <td>2.7</td>\n",
       "      <td>25</td>\n",
       "    </tr>\n",
       "    <tr>\n",
       "      <th>10</th>\n",
       "      <td>7.7</td>\n",
       "      <td>85</td>\n",
       "    </tr>\n",
       "    <tr>\n",
       "      <th>11</th>\n",
       "      <td>5.9</td>\n",
       "      <td>62</td>\n",
       "    </tr>\n",
       "    <tr>\n",
       "      <th>12</th>\n",
       "      <td>4.5</td>\n",
       "      <td>41</td>\n",
       "    </tr>\n",
       "    <tr>\n",
       "      <th>13</th>\n",
       "      <td>3.3</td>\n",
       "      <td>42</td>\n",
       "    </tr>\n",
       "    <tr>\n",
       "      <th>14</th>\n",
       "      <td>1.1</td>\n",
       "      <td>17</td>\n",
       "    </tr>\n",
       "    <tr>\n",
       "      <th>15</th>\n",
       "      <td>8.9</td>\n",
       "      <td>95</td>\n",
       "    </tr>\n",
       "    <tr>\n",
       "      <th>16</th>\n",
       "      <td>2.5</td>\n",
       "      <td>30</td>\n",
       "    </tr>\n",
       "    <tr>\n",
       "      <th>17</th>\n",
       "      <td>1.9</td>\n",
       "      <td>24</td>\n",
       "    </tr>\n",
       "    <tr>\n",
       "      <th>18</th>\n",
       "      <td>6.1</td>\n",
       "      <td>67</td>\n",
       "    </tr>\n",
       "    <tr>\n",
       "      <th>19</th>\n",
       "      <td>7.4</td>\n",
       "      <td>69</td>\n",
       "    </tr>\n",
       "    <tr>\n",
       "      <th>20</th>\n",
       "      <td>2.7</td>\n",
       "      <td>30</td>\n",
       "    </tr>\n",
       "    <tr>\n",
       "      <th>21</th>\n",
       "      <td>4.8</td>\n",
       "      <td>54</td>\n",
       "    </tr>\n",
       "    <tr>\n",
       "      <th>22</th>\n",
       "      <td>3.8</td>\n",
       "      <td>35</td>\n",
       "    </tr>\n",
       "    <tr>\n",
       "      <th>23</th>\n",
       "      <td>6.9</td>\n",
       "      <td>76</td>\n",
       "    </tr>\n",
       "    <tr>\n",
       "      <th>24</th>\n",
       "      <td>7.8</td>\n",
       "      <td>86</td>\n",
       "    </tr>\n",
       "  </tbody>\n",
       "</table>\n",
       "</div>"
      ],
      "text/plain": [
       "    Hours  Scores\n",
       "0     2.5      21\n",
       "1     5.1      47\n",
       "2     3.2      27\n",
       "3     8.5      75\n",
       "4     3.5      30\n",
       "5     1.5      20\n",
       "6     9.2      88\n",
       "7     5.5      60\n",
       "8     8.3      81\n",
       "9     2.7      25\n",
       "10    7.7      85\n",
       "11    5.9      62\n",
       "12    4.5      41\n",
       "13    3.3      42\n",
       "14    1.1      17\n",
       "15    8.9      95\n",
       "16    2.5      30\n",
       "17    1.9      24\n",
       "18    6.1      67\n",
       "19    7.4      69\n",
       "20    2.7      30\n",
       "21    4.8      54\n",
       "22    3.8      35\n",
       "23    6.9      76\n",
       "24    7.8      86"
      ]
     },
     "execution_count": 4,
     "metadata": {},
     "output_type": "execute_result"
    }
   ],
   "source": [
    "# Reading data from remote link\n",
    "s_data = pd.read_csv(\"http://bit.ly/w-data\")\n",
    "print(\"data imported successfully\")\n",
    "\n",
    "s_data.head(25)"
   ]
  },
  {
   "cell_type": "markdown",
   "id": "682d51ca",
   "metadata": {},
   "source": [
    "# Checking if there are any NULL values"
   ]
  },
  {
   "cell_type": "code",
   "execution_count": 5,
   "id": "ca0eba6b",
   "metadata": {},
   "outputs": [
    {
     "data": {
      "text/plain": [
       "False"
      ]
     },
     "execution_count": 5,
     "metadata": {},
     "output_type": "execute_result"
    }
   ],
   "source": [
    "s_data.isnull == True"
   ]
  },
  {
   "cell_type": "markdown",
   "id": "bb577904",
   "metadata": {},
   "source": [
    "There are no NULL values in the Dataset so,plot the data points on 2-D graph and see if we can find any relationship between the data."
   ]
  },
  {
   "cell_type": "markdown",
   "id": "6177f155",
   "metadata": {},
   "source": [
    "# Exploratory Data Analysis:"
   ]
  },
  {
   "cell_type": "markdown",
   "id": "6ad7ddc1",
   "metadata": {},
   "source": [
    "Let's plot the data points on 2-D graph to eyeball our dataset and see if we can manually find any relationship between the data."
   ]
  },
  {
   "cell_type": "code",
   "execution_count": 7,
   "id": "1c930d90",
   "metadata": {},
   "outputs": [
    {
     "data": {
      "image/png": "[encoded data removed]",
      "text/plain": [
       "<Figure size 640x480 with 1 Axes>"
      ]
     },
     "metadata": {},
     "output_type": "display_data"
    }
   ],
   "source": [
    "#plotting the distribution of scores\n",
    "\n",
    "sns.set_style('darkgrid')\n",
    "sns.scatterplot(y = s_data['Scores'],x = s_data['Hours'])\n",
    "plt.title('Score vs Hours', size = 20)\n",
    "plt.xlabel('Hours Studied', size=15)\n",
    "plt.ylabel('Percentage Scores', size=15)\n",
    "plt.show()"
   ]
  },
  {
   "cell_type": "markdown",
   "id": "28d2185b",
   "metadata": {},
   "source": [
    "From the graph above,we can clearly see that there is a positive linear relation between the number of hours studied and percentage of score."
   ]
  },
  {
   "cell_type": "markdown",
   "id": "1b56dcd1",
   "metadata": {},
   "source": [
    "# Plotting Regression line:"
   ]
  },
  {
   "cell_type": "code",
   "execution_count": 8,
   "id": "9588aacf",
   "metadata": {},
   "outputs": [
    {
     "data": {
      "image/png": "[encoded data removed]",
      "text/plain": [
       "<Figure size 640x480 with 1 Axes>"
      ]
     },
     "metadata": {},
     "output_type": "display_data"
    },
    {
     "name": "stdout",
     "output_type": "stream",
     "text": [
      "           Hours    Scores\n",
      "Hours   1.000000  0.976191\n",
      "Scores  0.976191  1.000000\n"
     ]
    }
   ],
   "source": [
    "sns.regplot(x = s_data['Hours'],y = s_data['Scores'])\n",
    "plt.title('Regression Line', size = 20)\n",
    "plt.xlabel('Hours Studied', size=15)\n",
    "plt.ylabel('Percentage Scores', size=15)\n",
    "plt.show()\n",
    "print(s_data.corr())"
   ]
  },
  {
   "cell_type": "markdown",
   "id": "8dc38921",
   "metadata": {},
   "source": [
    "# Preparing the data:"
   ]
  },
  {
   "cell_type": "markdown",
   "id": "0bc99bce",
   "metadata": {},
   "source": [
    "The next step is to divide the data into \"attributes\"(inputs) and \"labels\"(outputs)."
   ]
  },
  {
   "cell_type": "code",
   "execution_count": 9,
   "id": "55f900f4",
   "metadata": {},
   "outputs": [],
   "source": [
    "X = s_data.iloc[:, :-1].values\n",
    "y = s_data.iloc[:,1].values"
   ]
  },
  {
   "cell_type": "markdown",
   "id": "9d3e3761",
   "metadata": {},
   "source": [
    "# Splitting the data:"
   ]
  },
  {
   "cell_type": "markdown",
   "id": "6b6784bf",
   "metadata": {},
   "source": [
    "Now that we have our attributes and labels,the next step is to split this data into training and test sets."
   ]
  },
  {
   "cell_type": "code",
   "execution_count": 10,
   "id": "4b850007",
   "metadata": {},
   "outputs": [],
   "source": [
    "#splitting our data into training and testing sets\n",
    "from sklearn.model_selection import train_test_split\n",
    "X_train, X_test, y_train, y_test = train_test_split(X, y, test_size=0.2, random_state=0)"
   ]
  },
  {
   "cell_type": "markdown",
   "id": "a65cfd94",
   "metadata": {},
   "source": [
    "# Training the Algorithm:"
   ]
  },
  {
   "cell_type": "markdown",
   "id": "8ac72b4b",
   "metadata": {},
   "source": [
    "We have split our data into training and testing sets,and now is finally the time to train our algorithm."
   ]
  },
  {
   "cell_type": "code",
   "execution_count": 11,
   "id": "4a9c89f9",
   "metadata": {},
   "outputs": [
    {
     "name": "stdout",
     "output_type": "stream",
     "text": [
      "Training complete.\n",
      "Model Trained.\n"
     ]
    }
   ],
   "source": [
    "from sklearn.linear_model import LinearRegression  \n",
    "regressor = LinearRegression()  \n",
    "regressor.fit(X_train, y_train) \n",
    "\n",
    "print(\"Training complete.\")\n",
    "print(\"Model Trained.\")"
   ]
  },
  {
   "cell_type": "markdown",
   "id": "67336616",
   "metadata": {},
   "source": [
    "# Predicting the Percentage:"
   ]
  },
  {
   "cell_type": "markdown",
   "id": "fb78d76f",
   "metadata": {},
   "source": [
    "Now that we have trained our algorithm,it's time to make some predictions."
   ]
  },
  {
   "cell_type": "code",
   "execution_count": 12,
   "id": "d76bb74c",
   "metadata": {},
   "outputs": [
    {
     "data": {
      "text/html": [
       "<div>\n",
       "<style scoped>\n",
       "    .dataframe tbody tr th:only-of-type {\n",
       "        vertical-align: middle;\n",
       "    }\n",
       "\n",
       "    .dataframe tbody tr th {\n",
       "        vertical-align: top;\n",
       "    }\n",
       "\n",
       "    .dataframe thead th {\n",
       "        text-align: right;\n",
       "    }\n",
       "</style>\n",
       "<table border=\"1\" class=\"dataframe\">\n",
       "  <thead>\n",
       "    <tr style=\"text-align: right;\">\n",
       "      <th></th>\n",
       "      <th>Hours</th>\n",
       "      <th>Predicted Marks</th>\n",
       "    </tr>\n",
       "  </thead>\n",
       "  <tbody>\n",
       "    <tr>\n",
       "      <th>0</th>\n",
       "      <td>1.5</td>\n",
       "      <td>16.884145</td>\n",
       "    </tr>\n",
       "    <tr>\n",
       "      <th>1</th>\n",
       "      <td>3.2</td>\n",
       "      <td>33.732261</td>\n",
       "    </tr>\n",
       "    <tr>\n",
       "      <th>2</th>\n",
       "      <td>7.4</td>\n",
       "      <td>75.357018</td>\n",
       "    </tr>\n",
       "    <tr>\n",
       "      <th>3</th>\n",
       "      <td>2.5</td>\n",
       "      <td>26.794801</td>\n",
       "    </tr>\n",
       "    <tr>\n",
       "      <th>4</th>\n",
       "      <td>5.9</td>\n",
       "      <td>60.491033</td>\n",
       "    </tr>\n",
       "  </tbody>\n",
       "</table>\n",
       "</div>"
      ],
      "text/plain": [
       "   Hours  Predicted Marks\n",
       "0    1.5        16.884145\n",
       "1    3.2        33.732261\n",
       "2    7.4        75.357018\n",
       "3    2.5        26.794801\n",
       "4    5.9        60.491033"
      ]
     },
     "execution_count": 12,
     "metadata": {},
     "output_type": "execute_result"
    }
   ],
   "source": [
    "pred_y = regressor.predict(X_test)\n",
    "prediction = pd.DataFrame({'Hours':[i[0]for i in X_test], 'Predicted Marks': [k for k in pred_y]})\n",
    "prediction"
   ]
  },
  {
   "cell_type": "markdown",
   "id": "283e4354",
   "metadata": {},
   "source": [
    "# Comparing the Actual and Predicted Marks: "
   ]
  },
  {
   "cell_type": "code",
   "execution_count": 13,
   "id": "d66ff9de",
   "metadata": {},
   "outputs": [
    {
     "data": {
      "text/html": [
       "<div>\n",
       "<style scoped>\n",
       "    .dataframe tbody tr th:only-of-type {\n",
       "        vertical-align: middle;\n",
       "    }\n",
       "\n",
       "    .dataframe tbody tr th {\n",
       "        vertical-align: top;\n",
       "    }\n",
       "\n",
       "    .dataframe thead th {\n",
       "        text-align: right;\n",
       "    }\n",
       "</style>\n",
       "<table border=\"1\" class=\"dataframe\">\n",
       "  <thead>\n",
       "    <tr style=\"text-align: right;\">\n",
       "      <th></th>\n",
       "      <th>Actual</th>\n",
       "      <th>Predicted</th>\n",
       "    </tr>\n",
       "  </thead>\n",
       "  <tbody>\n",
       "    <tr>\n",
       "      <th>0</th>\n",
       "      <td>20</td>\n",
       "      <td>16.884145</td>\n",
       "    </tr>\n",
       "    <tr>\n",
       "      <th>1</th>\n",
       "      <td>27</td>\n",
       "      <td>33.732261</td>\n",
       "    </tr>\n",
       "    <tr>\n",
       "      <th>2</th>\n",
       "      <td>69</td>\n",
       "      <td>75.357018</td>\n",
       "    </tr>\n",
       "    <tr>\n",
       "      <th>3</th>\n",
       "      <td>30</td>\n",
       "      <td>26.794801</td>\n",
       "    </tr>\n",
       "    <tr>\n",
       "      <th>4</th>\n",
       "      <td>62</td>\n",
       "      <td>60.491033</td>\n",
       "    </tr>\n",
       "  </tbody>\n",
       "</table>\n",
       "</div>"
      ],
      "text/plain": [
       "   Actual  Predicted\n",
       "0      20  16.884145\n",
       "1      27  33.732261\n",
       "2      69  75.357018\n",
       "3      30  26.794801\n",
       "4      62  60.491033"
      ]
     },
     "execution_count": 13,
     "metadata": {},
     "output_type": "execute_result"
    }
   ],
   "source": [
    "#Comparing Actual vs Predicted\n",
    "\n",
    "df = pd.DataFrame({'Actual': y_test, 'Predicted': pred_y})\n",
    "df"
   ]
  },
  {
   "cell_type": "markdown",
   "id": "d00d605d",
   "metadata": {},
   "source": [
    "# Plotting Actual and Predicted Marks:"
   ]
  },
  {
   "cell_type": "code",
   "execution_count": 14,
   "id": "98a20483",
   "metadata": {},
   "outputs": [
    {
     "data": {
      "image/png": "[encoded data removed]",
      "text/plain": [
       "<Figure size 640x480 with 1 Axes>"
      ]
     },
     "metadata": {},
     "output_type": "display_data"
    }
   ],
   "source": [
    "plt.scatter(x=X_test, y=y_test, color='Red')\n",
    "plt.plot(X_test, pred_y, color='Black')\n",
    "plt.title('Actual vs Predicted', size=20)\n",
    "plt.ylabel('Marks Percentage', size=12)\n",
    "plt.xlabel('Hours Studied', size=12)\n",
    "plt.show()"
   ]
  },
  {
   "cell_type": "markdown",
   "id": "e6db4d20",
   "metadata": {},
   "source": [
    "# Predicting the score if studied for 9.25 hours/day:"
   ]
  },
  {
   "cell_type": "code",
   "execution_count": 15,
   "id": "001d1fc5",
   "metadata": {},
   "outputs": [
    {
     "name": "stdout",
     "output_type": "stream",
     "text": [
      "Score = 93.692\n"
     ]
    }
   ],
   "source": [
    "hours = [9.25]\n",
    "answer = regressor.predict([hours])\n",
    "print(\"Score = {}\".format(round(answer[0],3)))"
   ]
  },
  {
   "cell_type": "code",
   "execution_count": null,
   "id": "46034bb8",
   "metadata": {},
   "outputs": [],
   "source": [
    "According to linear regression model,predicted score if a student studies for 9.25 hrs/day is 93.692"
   ]
  },
  {
   "cell_type": "markdown",
   "id": "6bdc6471",
   "metadata": {},
   "source": [
    "# Evaluating the model:"
   ]
  },
  {
   "cell_type": "markdown",
   "id": "2419db46",
   "metadata": {},
   "source": [
    "The final step is to evaluate the performance of algorithm using mean square error."
   ]
  },
  {
   "cell_type": "code",
   "execution_count": 16,
   "id": "13b5c004",
   "metadata": {},
   "outputs": [
    {
     "name": "stdout",
     "output_type": "stream",
     "text": [
      "Mean Absolute Error: 4.183859899002982\n"
     ]
    }
   ],
   "source": [
    "#mean absolute error to evaluate performance of the algorithm\n",
    "from sklearn import metrics  \n",
    "print('Mean Absolute Error:', metrics.mean_absolute_error(y_test, pred_y))"
   ]
  },
  {
   "cell_type": "code",
   "execution_count": null,
   "id": "2bbcecd8",
   "metadata": {},
   "outputs": [],
   "source": []
  }
 ],
 "metadata": {
  "kernelspec": {
   "display_name": "Python 3 (ipykernel)",
   "language": "python",
   "name": "python3"
  },
  "language_info": {
   "codemirror_mode": {
    "name": "ipython",
    "version": 3
   },
   "file_extension": ".py",
   "mimetype": "text/x-python",
   "name": "python",
   "nbconvert_exporter": "python",
   "pygments_lexer": "ipython3",
   "version": "3.10.9"
  }
 },
 "nbformat": 4,
 "nbformat_minor": 5
}
